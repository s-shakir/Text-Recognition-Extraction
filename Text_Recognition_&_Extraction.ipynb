{
  "nbformat": 4,
  "nbformat_minor": 0,
  "metadata": {
    "colab": {
      "provenance": []
    },
    "kernelspec": {
      "name": "python3",
      "display_name": "Python 3"
    },
    "language_info": {
      "name": "python"
    }
  },
  "cells": [
    {
      "cell_type": "code",
      "source": [
        "!pip install paddlepaddle-gpu\n",
        "!pip install paddleocr\n",
        "from paddleocr import PaddleOCR, draw_ocr\n",
        "import os\n",
        "import cv2\n",
        "import matplotlib.pyplot as plt\n",
        "%matplotlib inline"
      ],
      "metadata": {
        "colab": {
          "base_uri": "https://localhost:8080/"
        },
        "id": "GIQZcLz6OpJY",
        "outputId": "1c7941c3-fdee-4aa2-d554-ef5d6af21a4b"
      },
      "execution_count": null,
      "outputs": [
        {
          "output_type": "stream",
          "name": "stdout",
          "text": [
            "Collecting paddlepaddle-gpu\n",
            "  Downloading paddlepaddle_gpu-2.5.0-cp310-cp310-manylinux1_x86_64.whl (543.2 MB)\n",
            "\u001b[2K     \u001b[90m━━━━━━━━━━━━━━━━━━━━━━━━━━━━━━━━━━━━━━━\u001b[0m \u001b[32m543.2/543.2 MB\u001b[0m \u001b[31m2.5 MB/s\u001b[0m eta \u001b[36m0:00:00\u001b[0m\n",
            "\u001b[?25hCollecting httpx (from paddlepaddle-gpu)\n",
            "  Downloading httpx-0.24.1-py3-none-any.whl (75 kB)\n",
            "\u001b[2K     \u001b[90m━━━━━━━━━━━━━━━━━━━━━━━━━━━━━━━━━━━━━━━━\u001b[0m \u001b[32m75.4/75.4 kB\u001b[0m \u001b[31m8.2 MB/s\u001b[0m eta \u001b[36m0:00:00\u001b[0m\n",
            "\u001b[?25hRequirement already satisfied: numpy>=1.13 in /usr/local/lib/python3.10/dist-packages (from paddlepaddle-gpu) (1.22.4)\n",
            "Requirement already satisfied: Pillow in /usr/local/lib/python3.10/dist-packages (from paddlepaddle-gpu) (8.4.0)\n",
            "Requirement already satisfied: decorator in /usr/local/lib/python3.10/dist-packages (from paddlepaddle-gpu) (4.4.2)\n",
            "Collecting astor (from paddlepaddle-gpu)\n",
            "  Downloading astor-0.8.1-py2.py3-none-any.whl (27 kB)\n",
            "Collecting paddle-bfloat==0.1.7 (from paddlepaddle-gpu)\n",
            "  Downloading paddle_bfloat-0.1.7-cp310-cp310-manylinux_2_17_x86_64.manylinux2014_x86_64.whl (383 kB)\n",
            "\u001b[2K     \u001b[90m━━━━━━━━━━━━━━━━━━━━━━━━━━━━━━━━━━━━━━\u001b[0m \u001b[32m383.2/383.2 kB\u001b[0m \u001b[31m27.9 MB/s\u001b[0m eta \u001b[36m0:00:00\u001b[0m\n",
            "\u001b[?25hRequirement already satisfied: opt-einsum==3.3.0 in /usr/local/lib/python3.10/dist-packages (from paddlepaddle-gpu) (3.3.0)\n",
            "Requirement already satisfied: protobuf>=3.20.2 in /usr/local/lib/python3.10/dist-packages (from paddlepaddle-gpu) (3.20.3)\n",
            "Requirement already satisfied: certifi in /usr/local/lib/python3.10/dist-packages (from httpx->paddlepaddle-gpu) (2023.5.7)\n",
            "Collecting httpcore<0.18.0,>=0.15.0 (from httpx->paddlepaddle-gpu)\n",
            "  Downloading httpcore-0.17.3-py3-none-any.whl (74 kB)\n",
            "\u001b[2K     \u001b[90m━━━━━━━━━━━━━━━━━━━━━━━━━━━━━━━━━━━━━━━━\u001b[0m \u001b[32m74.5/74.5 kB\u001b[0m \u001b[31m9.1 MB/s\u001b[0m eta \u001b[36m0:00:00\u001b[0m\n",
            "\u001b[?25hRequirement already satisfied: idna in /usr/local/lib/python3.10/dist-packages (from httpx->paddlepaddle-gpu) (3.4)\n",
            "Requirement already satisfied: sniffio in /usr/local/lib/python3.10/dist-packages (from httpx->paddlepaddle-gpu) (1.3.0)\n",
            "Collecting h11<0.15,>=0.13 (from httpcore<0.18.0,>=0.15.0->httpx->paddlepaddle-gpu)\n",
            "  Downloading h11-0.14.0-py3-none-any.whl (58 kB)\n",
            "\u001b[2K     \u001b[90m━━━━━━━━━━━━━━━━━━━━━━━━━━━━━━━━━━━━━━━━\u001b[0m \u001b[32m58.3/58.3 kB\u001b[0m \u001b[31m5.8 MB/s\u001b[0m eta \u001b[36m0:00:00\u001b[0m\n",
            "\u001b[?25hRequirement already satisfied: anyio<5.0,>=3.0 in /usr/local/lib/python3.10/dist-packages (from httpcore<0.18.0,>=0.15.0->httpx->paddlepaddle-gpu) (3.7.1)\n",
            "Requirement already satisfied: exceptiongroup in /usr/local/lib/python3.10/dist-packages (from anyio<5.0,>=3.0->httpcore<0.18.0,>=0.15.0->httpx->paddlepaddle-gpu) (1.1.2)\n",
            "Installing collected packages: paddle-bfloat, h11, astor, httpcore, httpx, paddlepaddle-gpu\n",
            "Successfully installed astor-0.8.1 h11-0.14.0 httpcore-0.17.3 httpx-0.24.1 paddle-bfloat-0.1.7 paddlepaddle-gpu-2.5.0\n",
            "Collecting paddleocr\n",
            "  Downloading paddleocr-2.6.1.3-py3-none-any.whl (445 kB)\n",
            "\u001b[2K     \u001b[90m━━━━━━━━━━━━━━━━━━━━━━━━━━━━━━━━━━━━━━\u001b[0m \u001b[32m445.9/445.9 kB\u001b[0m \u001b[31m20.4 MB/s\u001b[0m eta \u001b[36m0:00:00\u001b[0m\n",
            "\u001b[?25hRequirement already satisfied: shapely in /usr/local/lib/python3.10/dist-packages (from paddleocr) (2.0.1)\n",
            "Requirement already satisfied: scikit-image in /usr/local/lib/python3.10/dist-packages (from paddleocr) (0.19.3)\n",
            "Requirement already satisfied: imgaug in /usr/local/lib/python3.10/dist-packages (from paddleocr) (0.4.0)\n",
            "Collecting pyclipper (from paddleocr)\n",
            "  Downloading pyclipper-1.3.0.post4-cp310-cp310-manylinux_2_12_x86_64.manylinux2010_x86_64.whl (813 kB)\n",
            "\u001b[2K     \u001b[90m━━━━━━━━━━━━━━━━━━━━━━━━━━━━━━━━━━━━━━\u001b[0m \u001b[32m813.9/813.9 kB\u001b[0m \u001b[31m50.4 MB/s\u001b[0m eta \u001b[36m0:00:00\u001b[0m\n",
            "\u001b[?25hCollecting lmdb (from paddleocr)\n",
            "  Downloading lmdb-1.4.1-cp310-cp310-manylinux_2_17_x86_64.manylinux2014_x86_64.whl (299 kB)\n",
            "\u001b[2K     \u001b[90m━━━━━━━━━━━━━━━━━━━━━━━━━━━━━━━━━━━━━━\u001b[0m \u001b[32m299.2/299.2 kB\u001b[0m \u001b[31m26.9 MB/s\u001b[0m eta \u001b[36m0:00:00\u001b[0m\n",
            "\u001b[?25hRequirement already satisfied: tqdm in /usr/local/lib/python3.10/dist-packages (from paddleocr) (4.65.0)\n",
            "Requirement already satisfied: numpy in /usr/local/lib/python3.10/dist-packages (from paddleocr) (1.22.4)\n",
            "Collecting visualdl (from paddleocr)\n",
            "  Downloading visualdl-2.5.3-py3-none-any.whl (6.3 MB)\n",
            "\u001b[2K     \u001b[90m━━━━━━━━━━━━━━━━━━━━━━━━━━━━━━━━━━━━━━━━\u001b[0m \u001b[32m6.3/6.3 MB\u001b[0m \u001b[31m79.7 MB/s\u001b[0m eta \u001b[36m0:00:00\u001b[0m\n",
            "\u001b[?25hCollecting rapidfuzz (from paddleocr)\n",
            "  Downloading rapidfuzz-3.1.1-cp310-cp310-manylinux_2_17_x86_64.manylinux2014_x86_64.whl (3.1 MB)\n",
            "\u001b[2K     \u001b[90m━━━━━━━━━━━━━━━━━━━━━━━━━━━━━━━━━━━━━━━━\u001b[0m \u001b[32m3.1/3.1 MB\u001b[0m \u001b[31m57.2 MB/s\u001b[0m eta \u001b[36m0:00:00\u001b[0m\n",
            "\u001b[?25hCollecting opencv-python<=4.6.0.66 (from paddleocr)\n",
            "  Downloading opencv_python-4.6.0.66-cp36-abi3-manylinux_2_17_x86_64.manylinux2014_x86_64.whl (60.9 MB)\n",
            "\u001b[2K     \u001b[90m━━━━━━━━━━━━━━━━━━━━━━━━━━━━━━━━━━━━━━━━\u001b[0m \u001b[32m60.9/60.9 MB\u001b[0m \u001b[31m8.7 MB/s\u001b[0m eta \u001b[36m0:00:00\u001b[0m\n",
            "\u001b[?25hCollecting opencv-contrib-python<=4.6.0.66 (from paddleocr)\n",
            "  Downloading opencv_contrib_python-4.6.0.66-cp36-abi3-manylinux_2_17_x86_64.manylinux2014_x86_64.whl (67.1 MB)\n",
            "\u001b[2K     \u001b[90m━━━━━━━━━━━━━━━━━━━━━━━━━━━━━━━━━━━━━━━━\u001b[0m \u001b[32m67.1/67.1 MB\u001b[0m \u001b[31m8.2 MB/s\u001b[0m eta \u001b[36m0:00:00\u001b[0m\n",
            "\u001b[?25hRequirement already satisfied: cython in /usr/local/lib/python3.10/dist-packages (from paddleocr) (0.29.36)\n",
            "Requirement already satisfied: lxml in /usr/local/lib/python3.10/dist-packages (from paddleocr) (4.9.3)\n",
            "Collecting premailer (from paddleocr)\n",
            "  Downloading premailer-3.10.0-py2.py3-none-any.whl (19 kB)\n",
            "Requirement already satisfied: openpyxl in /usr/local/lib/python3.10/dist-packages (from paddleocr) (3.0.10)\n",
            "Collecting attrdict (from paddleocr)\n",
            "  Downloading attrdict-2.0.1-py2.py3-none-any.whl (9.9 kB)\n",
            "Collecting PyMuPDF<1.21.0 (from paddleocr)\n",
            "  Downloading PyMuPDF-1.20.2-cp310-cp310-manylinux_2_17_x86_64.manylinux2014_x86_64.whl (8.9 MB)\n",
            "\u001b[2K     \u001b[90m━━━━━━━━━━━━━━━━━━━━━━━━━━━━━━━━━━━━━━━━\u001b[0m \u001b[32m8.9/8.9 MB\u001b[0m \u001b[31m96.4 MB/s\u001b[0m eta \u001b[36m0:00:00\u001b[0m\n",
            "\u001b[?25hCollecting python-docx (from paddleocr)\n",
            "  Downloading python-docx-0.8.11.tar.gz (5.6 MB)\n",
            "\u001b[2K     \u001b[90m━━━━━━━━━━━━━━━━━━━━━━━━━━━━━━━━━━━━━━━━\u001b[0m \u001b[32m5.6/5.6 MB\u001b[0m \u001b[31m95.4 MB/s\u001b[0m eta \u001b[36m0:00:00\u001b[0m\n",
            "\u001b[?25h  Preparing metadata (setup.py) ... \u001b[?25l\u001b[?25hdone\n",
            "Requirement already satisfied: beautifulsoup4 in /usr/local/lib/python3.10/dist-packages (from paddleocr) (4.11.2)\n",
            "Requirement already satisfied: fonttools>=4.24.0 in /usr/local/lib/python3.10/dist-packages (from paddleocr) (4.40.0)\n",
            "Collecting fire>=0.3.0 (from paddleocr)\n",
            "  Downloading fire-0.5.0.tar.gz (88 kB)\n",
            "\u001b[2K     \u001b[90m━━━━━━━━━━━━━━━━━━━━━━━━━━━━━━━━━━━━━━━━\u001b[0m \u001b[32m88.3/88.3 kB\u001b[0m \u001b[31m10.6 MB/s\u001b[0m eta \u001b[36m0:00:00\u001b[0m\n",
            "\u001b[?25h  Preparing metadata (setup.py) ... \u001b[?25l\u001b[?25hdone\n",
            "Collecting pdf2docx (from paddleocr)\n",
            "  Downloading pdf2docx-0.5.6-py3-none-any.whl (148 kB)\n",
            "\u001b[2K     \u001b[90m━━━━━━━━━━━━━━━━━━━━━━━━━━━━━━━━━━━━━━\u001b[0m \u001b[32m148.4/148.4 kB\u001b[0m \u001b[31m17.1 MB/s\u001b[0m eta \u001b[36m0:00:00\u001b[0m\n",
            "\u001b[?25hRequirement already satisfied: six in /usr/local/lib/python3.10/dist-packages (from fire>=0.3.0->paddleocr) (1.16.0)\n",
            "Requirement already satisfied: termcolor in /usr/local/lib/python3.10/dist-packages (from fire>=0.3.0->paddleocr) (2.3.0)\n",
            "Requirement already satisfied: soupsieve>1.2 in /usr/local/lib/python3.10/dist-packages (from beautifulsoup4->paddleocr) (2.4.1)\n",
            "Requirement already satisfied: scipy in /usr/local/lib/python3.10/dist-packages (from imgaug->paddleocr) (1.10.1)\n",
            "Requirement already satisfied: Pillow in /usr/local/lib/python3.10/dist-packages (from imgaug->paddleocr) (8.4.0)\n",
            "Requirement already satisfied: matplotlib in /usr/local/lib/python3.10/dist-packages (from imgaug->paddleocr) (3.7.1)\n",
            "Requirement already satisfied: imageio in /usr/local/lib/python3.10/dist-packages (from imgaug->paddleocr) (2.25.1)\n",
            "Requirement already satisfied: networkx>=2.2 in /usr/local/lib/python3.10/dist-packages (from scikit-image->paddleocr) (3.1)\n",
            "Requirement already satisfied: tifffile>=2019.7.26 in /usr/local/lib/python3.10/dist-packages (from scikit-image->paddleocr) (2023.7.10)\n",
            "Requirement already satisfied: PyWavelets>=1.1.1 in /usr/local/lib/python3.10/dist-packages (from scikit-image->paddleocr) (1.4.1)\n",
            "Requirement already satisfied: packaging>=20.0 in /usr/local/lib/python3.10/dist-packages (from scikit-image->paddleocr) (23.1)\n",
            "Requirement already satisfied: et-xmlfile in /usr/local/lib/python3.10/dist-packages (from openpyxl->paddleocr) (1.1.0)\n",
            "Collecting cssselect (from premailer->paddleocr)\n",
            "  Downloading cssselect-1.2.0-py2.py3-none-any.whl (18 kB)\n",
            "Collecting cssutils (from premailer->paddleocr)\n",
            "  Downloading cssutils-2.7.1-py3-none-any.whl (399 kB)\n",
            "\u001b[2K     \u001b[90m━━━━━━━━━━━━━━━━━━━━━━━━━━━━━━━━━━━━━━\u001b[0m \u001b[32m399.7/399.7 kB\u001b[0m \u001b[31m30.9 MB/s\u001b[0m eta \u001b[36m0:00:00\u001b[0m\n",
            "\u001b[?25hRequirement already satisfied: requests in /usr/local/lib/python3.10/dist-packages (from premailer->paddleocr) (2.27.1)\n",
            "Requirement already satisfied: cachetools in /usr/local/lib/python3.10/dist-packages (from premailer->paddleocr) (5.3.1)\n",
            "Collecting bce-python-sdk (from visualdl->paddleocr)\n",
            "  Downloading bce_python_sdk-0.8.87-py3-none-any.whl (231 kB)\n",
            "\u001b[2K     \u001b[90m━━━━━━━━━━━━━━━━━━━━━━━━━━━━━━━━━━━━━━\u001b[0m \u001b[32m231.3/231.3 kB\u001b[0m \u001b[31m25.6 MB/s\u001b[0m eta \u001b[36m0:00:00\u001b[0m\n",
            "\u001b[?25hRequirement already satisfied: flask>=1.1.1 in /usr/local/lib/python3.10/dist-packages (from visualdl->paddleocr) (2.2.5)\n",
            "Collecting Flask-Babel>=3.0.0 (from visualdl->paddleocr)\n",
            "  Downloading flask_babel-3.1.0-py3-none-any.whl (9.6 kB)\n",
            "Requirement already satisfied: protobuf>=3.20.0 in /usr/local/lib/python3.10/dist-packages (from visualdl->paddleocr) (3.20.3)\n",
            "Requirement already satisfied: pandas in /usr/local/lib/python3.10/dist-packages (from visualdl->paddleocr) (1.5.3)\n",
            "Collecting rarfile (from visualdl->paddleocr)\n",
            "  Downloading rarfile-4.0-py3-none-any.whl (28 kB)\n",
            "Requirement already satisfied: psutil in /usr/local/lib/python3.10/dist-packages (from visualdl->paddleocr) (5.9.5)\n",
            "Requirement already satisfied: Werkzeug>=2.2.2 in /usr/local/lib/python3.10/dist-packages (from flask>=1.1.1->visualdl->paddleocr) (2.3.6)\n",
            "Requirement already satisfied: Jinja2>=3.0 in /usr/local/lib/python3.10/dist-packages (from flask>=1.1.1->visualdl->paddleocr) (3.1.2)\n",
            "Requirement already satisfied: itsdangerous>=2.0 in /usr/local/lib/python3.10/dist-packages (from flask>=1.1.1->visualdl->paddleocr) (2.1.2)\n",
            "Requirement already satisfied: click>=8.0 in /usr/local/lib/python3.10/dist-packages (from flask>=1.1.1->visualdl->paddleocr) (8.1.4)\n",
            "Requirement already satisfied: Babel>=2.12 in /usr/local/lib/python3.10/dist-packages (from Flask-Babel>=3.0.0->visualdl->paddleocr) (2.12.1)\n",
            "Requirement already satisfied: pytz>=2022.7 in /usr/local/lib/python3.10/dist-packages (from Flask-Babel>=3.0.0->visualdl->paddleocr) (2022.7.1)\n",
            "Collecting pycryptodome>=3.8.0 (from bce-python-sdk->visualdl->paddleocr)\n",
            "  Downloading pycryptodome-3.18.0-cp35-abi3-manylinux_2_17_x86_64.manylinux2014_x86_64.whl (2.1 MB)\n",
            "\u001b[2K     \u001b[90m━━━━━━━━━━━━━━━━━━━━━━━━━━━━━━━━━━━━━━━━\u001b[0m \u001b[32m2.1/2.1 MB\u001b[0m \u001b[31m83.5 MB/s\u001b[0m eta \u001b[36m0:00:00\u001b[0m\n",
            "\u001b[?25hRequirement already satisfied: future>=0.6.0 in /usr/local/lib/python3.10/dist-packages (from bce-python-sdk->visualdl->paddleocr) (0.18.3)\n",
            "Requirement already satisfied: contourpy>=1.0.1 in /usr/local/lib/python3.10/dist-packages (from matplotlib->imgaug->paddleocr) (1.1.0)\n",
            "Requirement already satisfied: cycler>=0.10 in /usr/local/lib/python3.10/dist-packages (from matplotlib->imgaug->paddleocr) (0.11.0)\n",
            "Requirement already satisfied: kiwisolver>=1.0.1 in /usr/local/lib/python3.10/dist-packages (from matplotlib->imgaug->paddleocr) (1.4.4)\n",
            "Requirement already satisfied: pyparsing>=2.3.1 in /usr/local/lib/python3.10/dist-packages (from matplotlib->imgaug->paddleocr) (3.1.0)\n",
            "Requirement already satisfied: python-dateutil>=2.7 in /usr/local/lib/python3.10/dist-packages (from matplotlib->imgaug->paddleocr) (2.8.2)\n",
            "Requirement already satisfied: urllib3<1.27,>=1.21.1 in /usr/local/lib/python3.10/dist-packages (from requests->premailer->paddleocr) (1.26.16)\n",
            "Requirement already satisfied: certifi>=2017.4.17 in /usr/local/lib/python3.10/dist-packages (from requests->premailer->paddleocr) (2023.5.7)\n",
            "Requirement already satisfied: charset-normalizer~=2.0.0 in /usr/local/lib/python3.10/dist-packages (from requests->premailer->paddleocr) (2.0.12)\n",
            "Requirement already satisfied: idna<4,>=2.5 in /usr/local/lib/python3.10/dist-packages (from requests->premailer->paddleocr) (3.4)\n",
            "Requirement already satisfied: MarkupSafe>=2.0 in /usr/local/lib/python3.10/dist-packages (from Jinja2>=3.0->flask>=1.1.1->visualdl->paddleocr) (2.1.3)\n",
            "Building wheels for collected packages: fire, python-docx\n",
            "  Building wheel for fire (setup.py) ... \u001b[?25l\u001b[?25hdone\n",
            "  Created wheel for fire: filename=fire-0.5.0-py2.py3-none-any.whl size=116932 sha256=9229ddea985955c70b55ba21f068c8759fc38ecd25c6e428f0ff4ab1172ada01\n",
            "  Stored in directory: /root/.cache/pip/wheels/90/d4/f7/9404e5db0116bd4d43e5666eaa3e70ab53723e1e3ea40c9a95\n",
            "  Building wheel for python-docx (setup.py) ... \u001b[?25l\u001b[?25hdone\n",
            "  Created wheel for python-docx: filename=python_docx-0.8.11-py3-none-any.whl size=184491 sha256=9a8ee7687603a2a129484c5cc807cc6929efc9fe979ba7dbef361fc59f5b7515\n",
            "  Stored in directory: /root/.cache/pip/wheels/80/27/06/837436d4c3bd989b957a91679966f207bfd71d358d63a8194d\n",
            "Successfully built fire python-docx\n",
            "Installing collected packages: rarfile, pyclipper, lmdb, rapidfuzz, python-docx, PyMuPDF, pycryptodome, opencv-python, opencv-contrib-python, fire, cssutils, cssselect, attrdict, premailer, pdf2docx, bce-python-sdk, Flask-Babel, visualdl, paddleocr\n",
            "  Attempting uninstall: opencv-python\n",
            "    Found existing installation: opencv-python 4.7.0.72\n",
            "    Uninstalling opencv-python-4.7.0.72:\n",
            "      Successfully uninstalled opencv-python-4.7.0.72\n",
            "  Attempting uninstall: opencv-contrib-python\n",
            "    Found existing installation: opencv-contrib-python 4.7.0.72\n",
            "    Uninstalling opencv-contrib-python-4.7.0.72:\n",
            "      Successfully uninstalled opencv-contrib-python-4.7.0.72\n",
            "Successfully installed Flask-Babel-3.1.0 PyMuPDF-1.20.2 attrdict-2.0.1 bce-python-sdk-0.8.87 cssselect-1.2.0 cssutils-2.7.1 fire-0.5.0 lmdb-1.4.1 opencv-contrib-python-4.6.0.66 opencv-python-4.6.0.66 paddleocr-2.6.1.3 pdf2docx-0.5.6 premailer-3.10.0 pyclipper-1.3.0.post4 pycryptodome-3.18.0 python-docx-0.8.11 rapidfuzz-3.1.1 rarfile-4.0 visualdl-2.5.3\n"
          ]
        },
        {
          "output_type": "stream",
          "name": "stderr",
          "text": [
            "/usr/local/lib/python3.10/dist-packages/paddle/fluid/framework.py:549: UserWarning: You are using GPU version Paddle, but your CUDA device is not set properly. CPU device will be used by default.\n",
            "  warnings.warn(\n"
          ]
        }
      ]
    },
    {
      "cell_type": "code",
      "source": [
        "!paddleocr --image_dir /content/gdrive/MyDrive/S_Ver_OCR/test_images/NN_WC.pdf --use_angle_cls true  --use_gpu false"
      ],
      "metadata": {
        "colab": {
          "base_uri": "https://localhost:8080/"
        },
        "id": "ifKjGqYJO4WA",
        "outputId": "098d730a-1eba-4362-eed6-436d530f7dd8"
      },
      "execution_count": null,
      "outputs": [
        {
          "output_type": "stream",
          "name": "stdout",
          "text": [
            "/usr/local/lib/python3.10/dist-packages/paddle/fluid/framework.py:549: UserWarning: You are using GPU version Paddle, but your CUDA device is not set properly. CPU device will be used by default.\n",
            "  warnings.warn(\n",
            "[2023/07/14 11:53:50] ppocr DEBUG: Namespace(help='==SUPPRESS==', use_gpu=False, use_xpu=False, use_npu=False, ir_optim=True, use_tensorrt=False, min_subgraph_size=15, precision='fp32', gpu_mem=500, image_dir='/content/gdrive/MyDrive/S_Ver_OCR/test_images/NN_WC.pdf', page_num=0, det_algorithm='DB', det_model_dir='/root/.paddleocr/whl/det/ch/ch_PP-OCRv3_det_infer', det_limit_side_len=960, det_limit_type='max', det_box_type='quad', det_db_thresh=0.3, det_db_box_thresh=0.6, det_db_unclip_ratio=1.5, max_batch_size=10, use_dilation=False, det_db_score_mode='fast', det_east_score_thresh=0.8, det_east_cover_thresh=0.1, det_east_nms_thresh=0.2, det_sast_score_thresh=0.5, det_sast_nms_thresh=0.2, det_pse_thresh=0, det_pse_box_thresh=0.85, det_pse_min_area=16, det_pse_scale=1, scales=[8, 16, 32], alpha=1.0, beta=1.0, fourier_degree=5, rec_algorithm='SVTR_LCNet', rec_model_dir='/root/.paddleocr/whl/rec/ch/ch_PP-OCRv3_rec_infer', rec_image_inverse=True, rec_image_shape='3, 48, 320', rec_batch_num=6, max_text_length=25, rec_char_dict_path='/usr/local/lib/python3.10/dist-packages/paddleocr/ppocr/utils/ppocr_keys_v1.txt', use_space_char=True, vis_font_path='./doc/fonts/simfang.ttf', drop_score=0.5, e2e_algorithm='PGNet', e2e_model_dir=None, e2e_limit_side_len=768, e2e_limit_type='max', e2e_pgnet_score_thresh=0.5, e2e_char_dict_path='./ppocr/utils/ic15_dict.txt', e2e_pgnet_valid_set='totaltext', e2e_pgnet_mode='fast', use_angle_cls=True, cls_model_dir='/root/.paddleocr/whl/cls/ch_ppocr_mobile_v2.0_cls_infer', cls_image_shape='3, 48, 192', label_list=['0', '180'], cls_batch_num=6, cls_thresh=0.9, enable_mkldnn=False, cpu_threads=10, use_pdserving=False, warmup=False, sr_model_dir=None, sr_image_shape='3, 32, 128', sr_batch_num=1, draw_img_save_dir='./inference_results', save_crop_res=False, crop_res_save_dir='./output', use_mp=False, total_process_num=1, process_id=0, benchmark=False, save_log_path='./log_output/', show_log=True, use_onnx=False, output='./output', table_max_len=488, table_algorithm='TableAttn', table_model_dir=None, merge_no_span_structure=True, table_char_dict_path=None, layout_model_dir=None, layout_dict_path=None, layout_score_threshold=0.5, layout_nms_threshold=0.5, kie_algorithm='LayoutXLM', ser_model_dir=None, re_model_dir=None, use_visual_backbone=True, ser_dict_path='../train_data/XFUND/class_list_xfun.txt', ocr_order_method=None, mode='structure', image_orientation=False, layout=True, table=True, ocr=True, recovery=False, use_pdf2docx_api=False, lang='ch', det=True, rec=True, type='ocr', ocr_version='PP-OCRv3', structure_version='PP-StructureV2')\n",
            "[2023/07/14 11:53:52] ppocr INFO: **********/content/gdrive/MyDrive/S_Ver_OCR/test_images/NN_WC.pdf**********\n",
            "[2023/07/14 11:53:53] ppocr DEBUG: dt_boxes num : 25, elapse : 0.9854679107666016\n",
            "[2023/07/14 11:53:53] ppocr DEBUG: cls num  : 25, elapse : 0.3277597427368164\n",
            "[2023/07/14 11:54:14] ppocr DEBUG: rec_res num  : 25, elapse : 20.771608352661133\n",
            "[2023/07/14 11:54:15] ppocr DEBUG: dt_boxes num : 5, elapse : 0.9685688018798828\n",
            "[2023/07/14 11:54:15] ppocr DEBUG: cls num  : 5, elapse : 0.0563657283782959\n",
            "[2023/07/14 11:54:17] ppocr DEBUG: rec_res num  : 5, elapse : 2.4641332626342773\n",
            "[2023/07/14 11:54:19] ppocr DEBUG: dt_boxes num : 28, elapse : 1.2941651344299316\n",
            "[2023/07/14 11:54:19] ppocr DEBUG: cls num  : 28, elapse : 0.5657949447631836\n",
            "[2023/07/14 11:54:31] ppocr DEBUG: rec_res num  : 28, elapse : 12.28654408454895\n",
            "[2023/07/14 11:54:31] ppocr INFO: [[[155.0, 211.0], [216.0, 211.0], [216.0, 229.0], [155.0, 229.0]], ('PENGT', 0.9518625140190125)]\n",
            "[2023/07/14 11:54:31] ppocr INFO: [[[353.0, 208.0], [414.0, 208.0], [414.0, 231.0], [353.0, 231.0]], ('SSICS', 0.8572261929512024)]\n",
            "[2023/07/14 11:54:31] ppocr INFO: [[[151.0, 284.0], [294.0, 284.0], [294.0, 312.0], [151.0, 312.0]], ('NO NAME', 0.962794303894043)]\n",
            "[2023/07/14 11:54:31] ppocr INFO: [[[153.0, 358.0], [994.0, 355.0], [995.0, 383.0], [153.0, 386.0]], ('WILKIE cOLLINSs was born in London in 1824, the eldest son of the', 0.9013919830322266)]\n",
            "[2023/07/14 11:54:31] ppocr INFO: [[[153.0, 432.0], [1031.0, 432.0], [1031.0, 460.0], [153.0, 460.0]], (\"in the tea business, he was entered to read for the bar at Lincoln's\", 0.9434328675270081)]\n",
            "[2023/07/14 11:54:31] ppocr INFO: [[[153.0, 469.0], [993.0, 469.0], [993.0, 497.0], [153.0, 497.0]], ('Inn, where he gained the legal knowledge that was to give him', 0.9397498369216919)]\n",
            "[2023/07/14 11:54:31] ppocr INFO: [[[155.0, 505.0], [1063.0, 505.0], [1063.0, 533.0], [155.0, 533.0]], ('much material for his writing. From the early fifties, he was a friend', 0.9419496655464172)]\n",
            "[2023/07/14 11:54:31] ppocr INFO: [[[155.0, 541.0], [988.0, 541.0], [988.0, 569.0], [155.0, 569.0]], ('of Charles Dickens, acting with him, contributing to Household', 0.9436642527580261)]\n",
            "[2023/07/14 11:54:31] ppocr INFO: [[[155.0, 574.0], [1054.0, 574.0], [1054.0, 607.0], [155.0, 607.0]], ('Words, travelling with him on the Continent. Dickens produced and', 0.9474027156829834)]\n",
            "[2023/07/14 11:54:31] ppocr INFO: [[[156.0, 615.0], [1036.0, 615.0], [1036.0, 639.0], [156.0, 639.0]], ('acted in two melodramas written by Collins, The Lighthouse (1855)', 0.9095731377601624)]\n",
            "[2023/07/14 11:54:31] ppocr INFO: [[[155.0, 652.0], [911.0, 652.0], [911.0, 675.0], [155.0, 675.0]], ('and The Frozen Deep (1857). Of his novels, Collins is best', 0.9477348923683167)]\n",
            "[2023/07/14 11:54:31] ppocr INFO: [[[153.0, 685.0], [983.0, 685.0], [983.0, 713.0], [153.0, 713.0]], ('remembered for The Woman in White (1860), No Name (1862),', 0.9258944392204285)]\n",
            "[2023/07/14 11:54:31] ppocr INFO: [[[156.0, 723.0], [1056.0, 723.0], [1056.0, 746.0], [156.0, 746.0]], ('Armadale (1866) and The Moonstone (1868), which T. S. Eliot called', 0.9153957366943359)]\n",
            "[2023/07/14 11:54:31] ppocr INFO: [[[151.0, 752.0], [991.0, 754.0], [991.0, 787.0], [151.0, 785.0]], ('‘the first, the longest, and the best of modern English detective', 0.9126371145248413)]\n",
            "[2023/07/14 11:54:31] ppocr INFO: [[[153.0, 794.0], [1046.0, 794.0], [1046.0, 822.0], [153.0, 822.0]], (\"novels'. Wilkie Collins, who braved Victorian morals by living with\", 0.943101167678833)]\n",
            "[2023/07/14 11:54:31] ppocr INFO: [[[153.0, 859.0], [331.0, 863.0], [331.0, 893.0], [153.0, 889.0]], ('died in 1889.', 0.9234672784805298)]\n",
            "[2023/07/14 11:54:31] ppocr INFO: [[[150.0, 937.0], [1024.0, 936.0], [1024.0, 964.0], [150.0, 965.0]], ('      ', 0.5538576245307922)]\n",
            "[2023/07/14 11:54:31] ppocr INFO: [[[155.0, 978.0], [991.0, 978.0], [991.0, 1002.0], [155.0, 1002.0]], ('Literature from Oxford University. His publications include the', 0.9372022747993469)]\n",
            "[2023/07/14 11:54:31] ppocr INFO: [[[150.0, 1010.0], [998.0, 1008.0], [998.0, 1041.0], [150.0, 1043.0]], ('poetry collections Landlocked (1992) and Soft Sift (2001), and a', 0.9590299129486084)]\n",
            "[2023/07/14 11:54:31] ppocr INFO: [[[153.0, 1048.0], [1048.0, 1048.0], [1048.0, 1076.0], [153.0, 1076.0]], ('critical biography of the French writer Raymond Roussel, Raymond', 0.9492408633232117)]\n",
            "[2023/07/14 11:54:31] ppocr INFO: [[[153.0, 1084.0], [1053.0, 1084.0], [1053.0, 1112.0], [153.0, 1112.0]], ('Roussel and the Republic of Dreams (2000). He is currently a lecturer', 0.9229814410209656)]\n",
            "[2023/07/14 11:54:31] ppocr INFO: [[[153.0, 1120.0], [988.0, 1120.0], [988.0, 1148.0], [153.0, 1148.0]], ('in English Literature at University College London. He has also', 0.9186423420906067)]\n",
            "[2023/07/14 11:54:31] ppocr INFO: [[[153.0, 1153.0], [988.0, 1157.0], [988.0, 1185.0], [153.0, 1181.0]], (\"edited Charles Dickens's Nicholas Nickleby for Penguin Classics.\", 0.9364172220230103)]\n",
            "[2023/07/14 11:54:31] ppocr INFO: [[[155.0, 246.0], [411.0, 246.0], [411.0, 274.0], [155.0, 274.0]], ('WILKIE COLLINS', 0.8708806037902832)]\n",
            "[2023/07/14 11:54:31] ppocr INFO: [[[153.0, 343.0], [373.0, 343.0], [373.0, 383.0], [153.0, 383.0]], ('No Name', 0.9317801594734192)]\n",
            "[2023/07/14 11:54:31] ppocr INFO: [[[156.0, 470.0], [665.0, 470.0], [665.0, 493.0], [156.0, 493.0]], ('Edited with an Introduction and Notes by', 0.9029788970947266)]\n",
            "[2023/07/14 11:54:31] ppocr INFO: [[[151.0, 540.0], [328.0, 540.0], [328.0, 568.0], [151.0, 568.0]], ('MARK FORD', 0.9594718217849731)]\n",
            "[2023/07/14 11:54:31] ppocr INFO: [[[153.0, 1030.0], [331.0, 1030.0], [331.0, 1051.0], [153.0, 1051.0]], ('PENGUIN BOOKS', 0.8846255540847778)]\n",
            "[2023/07/14 11:54:31] ppocr INFO: [[[151.0, 185.0], [331.0, 185.0], [331.0, 208.0], [151.0, 208.0]], ('PENGUIN BOOKS', 0.9301043152809143)]\n",
            "[2023/07/14 11:54:31] ppocr INFO: [[[153.0, 239.0], [476.0, 239.0], [476.0, 262.0], [153.0, 262.0]], ('Published by the Penguin Group', 0.9044972062110901)]\n",
            "[2023/07/14 11:54:31] ppocr INFO: [[[153.0, 274.0], [745.0, 274.0], [745.0, 297.0], [153.0, 297.0]], ('Penguin Books Ltd, 80 Strand, London WC2R ORL, England', 0.9265843629837036)]\n",
            "[2023/07/14 11:54:31] ppocr INFO: [[[153.0, 312.0], [966.0, 312.0], [966.0, 335.0], [153.0, 335.0]], ('Penguin Group (USA), Inc., 375 Hudson Street, New York, New York 10014, USA', 0.9300211668014526)]\n",
            "[2023/07/14 11:54:31] ppocr INFO: [[[153.0, 348.0], [1054.0, 348.0], [1054.0, 371.0], [153.0, 371.0]], ('Penguin Books Australia Ltd, 250 Camberwell Road, Camberwell, Victoria 3124, Australia', 0.9254049062728882)]\n",
            "[2023/07/14 11:54:31] ppocr INFO: [[[153.0, 384.0], [980.0, 384.0], [980.0, 408.0], [153.0, 408.0]], ('Penguin Books Canada Ltd, 10 Alcorn Avenue, Toronto, Ontario, Canada M4V 3B2', 0.9656640887260437)]\n",
            "[2023/07/14 11:54:31] ppocr INFO: [[[153.0, 419.0], [1023.0, 419.0], [1023.0, 442.0], [153.0, 442.0]], ('Penguin Books India (P) Ltd, 11 Community Centre, Panchsheel Park, New Delhi - 110', 0.9339343905448914)]\n",
            "[2023/07/14 11:54:31] ppocr INFO: [[[153.0, 455.0], [256.0, 455.0], [256.0, 479.0], [153.0, 479.0]], ('017, India', 0.8588173985481262)]\n",
            "[2023/07/14 11:54:31] ppocr INFO: [[[153.0, 490.0], [985.0, 490.0], [985.0, 513.0], [153.0, 513.0]], ('Penguin Books (NZ) Ltd, Cnr Rosedale and Airborne Roads, Albany, Auckland, New', 0.9338252544403076)]\n",
            "[2023/07/14 11:54:31] ppocr INFO: [[[153.0, 526.0], [238.0, 526.0], [238.0, 553.0], [153.0, 553.0]], ('Zealand', 0.9663358330726624)]\n",
            "[2023/07/14 11:54:31] ppocr INFO: [[[151.0, 561.0], [1049.0, 559.0], [1049.0, 587.0], [151.0, 589.0]], ('Penguin Books (South Africa) (Pty) Ltd, 24 Sturdee Avenue, Rosebank 2196, South Africa', 0.9374549388885498)]\n",
            "[2023/07/14 11:54:31] ppocr INFO: [[[155.0, 617.0], [938.0, 617.0], [938.0, 640.0], [155.0, 640.0]], ('Penguin Books Ltd, Registered Offices: 80 Strand, London WC2R ORL, England', 0.9286552667617798)]\n",
            "[2023/07/14 11:54:31] ppocr INFO: [[[153.0, 672.0], [343.0, 672.0], [343.0, 695.0], [153.0, 695.0]], ('www.penguin.com', 0.9421839118003845)]\n",
            "[2023/07/14 11:54:31] ppocr INFO: [[[150.0, 723.0], [362.0, 721.0], [363.0, 749.0], [150.0, 751.0]], ('First published 1862', 0.9457361102104187)]\n",
            "[2023/07/14 11:54:31] ppocr INFO: [[[151.0, 759.0], [491.0, 759.0], [491.0, 787.0], [151.0, 787.0]], ('Published in Penguin Books 1994', 0.9612513184547424)]\n",
            "[2023/07/14 11:54:31] ppocr INFO: [[[150.0, 795.0], [815.0, 794.0], [815.0, 822.0], [150.0, 823.0]], ('Reprinted with a new Chronology and updated Bibliography 2004', 0.9406788349151611)]\n",
            "[2023/07/14 11:54:31] ppocr INFO: [[[150.0, 832.0], [185.0, 832.0], [185.0, 858.0], [150.0, 858.0]], ('12', 0.9998260736465454)]\n",
            "[2023/07/14 11:54:31] ppocr INFO: [[[150.0, 884.0], [888.0, 883.0], [888.0, 911.0], [150.0, 912.0]], ('Introduction, notes and bibliography copyright @ Mark Ford, 1994, 2004', 0.9400137662887573)]\n",
            "[2023/07/14 11:54:31] ppocr INFO: [[[156.0, 924.0], [622.0, 924.0], [622.0, 947.0], [156.0, 947.0]], ('Chronology copyright @ Matthew Sweet, 1999', 0.9226598143577576)]\n",
            "[2023/07/14 11:54:31] ppocr INFO: [[[152.0, 955.0], [339.0, 957.0], [339.0, 985.0], [151.0, 983.0]], ('All rights reserved', 0.9647544026374817)]\n",
            "[2023/07/14 11:54:31] ppocr INFO: [[[155.0, 1013.0], [622.0, 1013.0], [622.0, 1036.0], [155.0, 1036.0]], ('The moral right of the editor has been asserted', 0.9096226692199707)]\n",
            "[2023/07/14 11:54:31] ppocr INFO: [[[155.0, 1068.0], [792.0, 1068.0], [792.0, 1091.0], [155.0, 1091.0]], ('Except in the United States of America, this book is sold subject', 0.9603018760681152)]\n",
            "[2023/07/14 11:54:31] ppocr INFO: [[[153.0, 1102.0], [858.0, 1102.0], [858.0, 1125.0], [153.0, 1125.0]], ('to the condition that it shall not, by way of trade or otherwise, be lent.', 0.9298908114433289)]\n",
            "[2023/07/14 11:54:31] ppocr INFO: [[[153.0, 1140.0], [807.0, 1140.0], [807.0, 1163.0], [153.0, 1163.0]], (\"re-sold, hired out, or otherwise circulated without the publisher's\", 0.9445663094520569)]\n",
            "[2023/07/14 11:54:31] ppocr INFO: [[[153.0, 1176.0], [788.0, 1176.0], [788.0, 1200.0], [153.0, 1200.0]], ('prior consent in any form of binding or cover other than that in', 0.9146814346313477)]\n",
            "[2023/07/14 11:54:31] ppocr INFO: [[[155.0, 1211.0], [827.0, 1211.0], [827.0, 1234.0], [155.0, 1234.0]], ('which it is published and without a similar condition including this', 0.9484478235244751)]\n",
            "[2023/07/14 11:54:31] ppocr INFO: [[[153.0, 1247.0], [693.0, 1247.0], [693.0, 1270.0], [153.0, 1270.0]], ('condition being imposed on the subsequent purchaser', 0.952973484992981)]\n",
            "[2023/07/14 11:54:31] ppocr INFO: [[[153.0, 1300.0], [394.0, 1300.0], [394.0, 1323.0], [153.0, 1323.0]], ('EISBN: 9781101492345', 0.9334859848022461)]\n"
          ]
        }
      ]
    },
    {
      "cell_type": "code",
      "source": [
        "output = !paddleocr --image_dir /content/gdrive/MyDrive/S_Ver_OCR/test_images/NN_WC.pdf --use_angle_cls true  --use_gpu false"
      ],
      "metadata": {
        "id": "o9vYZ3U9QCl4"
      },
      "execution_count": null,
      "outputs": []
    },
    {
      "cell_type": "code",
      "source": [
        "keyword = \"wilkie\"\n",
        "extracted_sentences = []\n",
        "\n",
        "for sentence in output:\n",
        "    if keyword in sentence.lower():\n",
        "        start_index = sentence.index(\"(\")\n",
        "        end_index = sentence.index(\")\")\n",
        "        extracted_sentences.append(sentence[start_index + 1:end_index])\n",
        "\n",
        "print(extracted_sentences)\n"
      ],
      "metadata": {
        "colab": {
          "base_uri": "https://localhost:8080/"
        },
        "id": "muypp5GRPPSF",
        "outputId": "d6878685-0ee1-44d8-a295-849c16c08a86"
      },
      "execution_count": null,
      "outputs": [
        {
          "output_type": "stream",
          "name": "stdout",
          "text": [
            "[\"'WILKIE cOLLINSs was born in London in 1824, the eldest son of the', 0.9013919830322266\", '\"novels\\'. Wilkie Collins, who braved Victorian morals by living with\", 0.943101167678833', \"'WILKIE COLLINS', 0.8708806037902832\"]\n"
          ]
        }
      ]
    },
    {
      "cell_type": "code",
      "source": [],
      "metadata": {
        "id": "ebuenUk_Qjnb"
      },
      "execution_count": null,
      "outputs": []
    }
  ]
}